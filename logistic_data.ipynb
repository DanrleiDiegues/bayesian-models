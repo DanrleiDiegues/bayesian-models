{
 "cells": [
  {
   "cell_type": "markdown",
   "metadata": {},
   "source": [
    "### Tomtom API for Traffic Transport"
   ]
  },
  {
   "cell_type": "code",
   "execution_count": 4,
   "metadata": {},
   "outputs": [
    {
     "name": "stdout",
     "output_type": "stream",
     "text": [
      "Erro ao acessar a API: 400\n"
     ]
    }
   ],
   "source": [
    "import requests\n",
    "import pandas as pd\n",
    "\n",
    "# Substitua com sua chave de API TomTom\n",
    "API_KEY = '--'\n",
    "\n",
    "# Parâmetros da requisição\n",
    "baseURL = \"https://api.tomtom.com\"\n",
    "versionNumber = \"4\"\n",
    "style = \"rws\"  # Estilo de dados (pode ser ajustado conforme documentação)\n",
    "zoom = 10  # Nível de zoom (ajuste conforme necessário)\n",
    "format = \"json\"  # Formato de resposta (json ou xml)\n",
    "unit = \"kph\"  # Unidade para velocidade (kph ou mph)\n",
    "thickness = 10  # Espessura da linha no mapa\n",
    "openLr = \"false\"  # OpenLR (verdadeiro ou falso)\n",
    "jsonp = \"\"  # Deixe vazio se não for usar JSONP\n",
    "\n",
    "# Coordenadas de exemplo (latitude, longitude)\n",
    "LATITUDE = -23.550520\n",
    "LONGITUDE = -46.633308\n",
    "point = f\"{LATITUDE},{LONGITUDE}\"\n",
    "\n",
    "# Montando a URL com os parâmetros\n",
    "url = f\"{baseURL}/traffic/services/{versionNumber}/flowSegmentData/{style}/13/{format}\"\n",
    "\n",
    "# Parâmetros da API\n",
    "params = {\n",
    "    'key': API_KEY,\n",
    "    'point': point,\n",
    "    'unit': unit,\n",
    "    'thickness': thickness,\n",
    "    'openLr': openLr,\n",
    "    'jsonp': jsonp\n",
    "}\n",
    "\n",
    "# Realizando a requisição GET\n",
    "response = requests.get(url, params=params)\n",
    "\n",
    "# Verificando se a resposta foi bem-sucedida\n",
    "if response.status_code == 200:\n",
    "    data = response.json()\n",
    "    \n",
    "    # Extraindo dados relevantes (ajuste conforme a resposta real da API)\n",
    "    flow_data = data.get('flowSegmentData', {}).get('flowSegmentData', [])\n",
    "    \n",
    "    # Criando lista para armazenar os dados de tráfego\n",
    "    traffic_data_list = []\n",
    "    \n",
    "    for item in flow_data:\n",
    "        traffic_data_list.append({\n",
    "            'currentSpeed': item.get('currentSpeed'),\n",
    "            'freeFlowSpeed': item.get('freeFlowSpeed'),\n",
    "            'confidence': item.get('confidence'),\n",
    "            'latitude': LATITUDE,\n",
    "            'longitude': LONGITUDE\n",
    "        })\n",
    "    \n",
    "    # Convertendo para um DataFrame\n",
    "    df = pd.DataFrame(traffic_data_list)\n",
    "    \n",
    "    # Exibindo e salvando os dados\n",
    "    print(df)\n",
    "    df.to_csv(\"dados_trafego_tomtom.csv\", index=False)\n",
    "else:\n",
    "    print(f\"Erro ao acessar a API: {response.status_code}\")"
   ]
  },
  {
   "cell_type": "code",
   "execution_count": null,
   "metadata": {},
   "outputs": [],
   "source": []
  }
 ],
 "metadata": {
  "kernelspec": {
   "display_name": "base",
   "language": "python",
   "name": "python3"
  },
  "language_info": {
   "codemirror_mode": {
    "name": "ipython",
    "version": 3
   },
   "file_extension": ".py",
   "mimetype": "text/x-python",
   "name": "python",
   "nbconvert_exporter": "python",
   "pygments_lexer": "ipython3",
   "version": "3.12.3"
  }
 },
 "nbformat": 4,
 "nbformat_minor": 2
}
